{
 "cells": [
  {
   "cell_type": "code",
   "execution_count": 9,
   "id": "c821d9f3-3840-41af-8ad2-a9e045e618ae",
   "metadata": {},
   "outputs": [
    {
     "name": "stdout",
     "output_type": "stream",
     "text": [
      "Mean Squared Error: 0.5524935247062327\n"
     ]
    },
    {
     "data": {
      "text/plain": [
       "['../models/house_price.joblib']"
      ]
     },
     "execution_count": 9,
     "metadata": {},
     "output_type": "execute_result"
    }
   ],
   "source": [
    "# Import necessary libraries\n",
    "import pandas as pd\n",
    "from sklearn.model_selection import train_test_split\n",
    "from sklearn.ensemble import RandomForestRegressor  # Example, replace with your chosen model\n",
    "from sklearn.metrics import mean_squared_error\n",
    "import joblib\n",
    "\n",
    "# Load the processed data from data/processed_data.csv\n",
    "processed_data_path = '../data/processed_data.csv'\n",
    "df = pd.read_csv(processed_data_path)\n",
    "\n",
    "# Define features and target variable\n",
    "X = df.drop('price', axis=1)  # Replace 'target_variable' with your actual target column\n",
    "y = df['price']\n",
    "\n",
    "# Split the data into training and testing sets\n",
    "X_train, X_test, y_train, y_test = train_test_split(X, y, test_size=0.2, random_state=42)\n",
    "\n",
    "# Define and train your machine learning model\n",
    "model = RandomForestRegressor()  # Example, replace with your chosen model\n",
    "model.fit(X_train, y_train)\n",
    "\n",
    "# Evaluate the model\n",
    "y_pred = model.predict(X_test)\n",
    "mse = mean_squared_error(y_test, y_pred)\n",
    "print(f'Mean Squared Error: {mse}')\n",
    "\n",
    "# Save the trained model\n",
    "model_path = '../models/house_price.joblib'  # Replace 'your_model' with a meaningful name\n",
    "joblib.dump(model, model_path)\n"
   ]
  },
  {
   "cell_type": "code",
   "execution_count": null,
   "id": "fa1b2b62-5b21-4cd9-9862-270c7ec529b5",
   "metadata": {},
   "outputs": [],
   "source": []
  }
 ],
 "metadata": {
  "kernelspec": {
   "display_name": "Python 3 (ipykernel)",
   "language": "python",
   "name": "python3"
  },
  "language_info": {
   "codemirror_mode": {
    "name": "ipython",
    "version": 3
   },
   "file_extension": ".py",
   "mimetype": "text/x-python",
   "name": "python",
   "nbconvert_exporter": "python",
   "pygments_lexer": "ipython3",
   "version": "3.10.12"
  }
 },
 "nbformat": 4,
 "nbformat_minor": 5
}
